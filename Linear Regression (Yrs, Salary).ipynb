{
 "cells": [
  {
   "cell_type": "markdown",
   "id": "e26516ef",
   "metadata": {},
   "source": [
    "# Dataset on Salary and Years of exp for Linear Regression"
   ]
  },
  {
   "cell_type": "code",
   "execution_count": 171,
   "id": "54fd60b4",
   "metadata": {},
   "outputs": [],
   "source": [
    "import pandas as pd #To read CSV file\n",
    "import matplotlib.pyplot as plt #To plot data\n",
    "import seaborn as sns #Data Visualization\n",
    "import warnings #To remove inconsequential warnings\n",
    "import math #for basic mat functions"
   ]
  },
  {
   "cell_type": "code",
   "execution_count": 172,
   "id": "e50ac8e2",
   "metadata": {},
   "outputs": [],
   "source": [
    "#Read the data\n",
    "df = pd.read_csv(\"C:/Users/Aditya/Desktop/BSE PGPDA/Aditya Analysis/Salary_Data.csv\")"
   ]
  },
  {
   "cell_type": "code",
   "execution_count": 173,
   "id": "029d7206",
   "metadata": {},
   "outputs": [
    {
     "data": {
      "text/html": [
       "<div>\n",
       "<style scoped>\n",
       "    .dataframe tbody tr th:only-of-type {\n",
       "        vertical-align: middle;\n",
       "    }\n",
       "\n",
       "    .dataframe tbody tr th {\n",
       "        vertical-align: top;\n",
       "    }\n",
       "\n",
       "    .dataframe thead th {\n",
       "        text-align: right;\n",
       "    }\n",
       "</style>\n",
       "<table border=\"1\" class=\"dataframe\">\n",
       "  <thead>\n",
       "    <tr style=\"text-align: right;\">\n",
       "      <th></th>\n",
       "      <th>YearsExperience</th>\n",
       "      <th>Salary</th>\n",
       "    </tr>\n",
       "  </thead>\n",
       "  <tbody>\n",
       "    <tr>\n",
       "      <th>count</th>\n",
       "      <td>30.000000</td>\n",
       "      <td>30.000000</td>\n",
       "    </tr>\n",
       "    <tr>\n",
       "      <th>mean</th>\n",
       "      <td>5.313333</td>\n",
       "      <td>76003.000000</td>\n",
       "    </tr>\n",
       "    <tr>\n",
       "      <th>std</th>\n",
       "      <td>2.837888</td>\n",
       "      <td>27414.429785</td>\n",
       "    </tr>\n",
       "    <tr>\n",
       "      <th>min</th>\n",
       "      <td>1.100000</td>\n",
       "      <td>37731.000000</td>\n",
       "    </tr>\n",
       "    <tr>\n",
       "      <th>25%</th>\n",
       "      <td>3.200000</td>\n",
       "      <td>56720.750000</td>\n",
       "    </tr>\n",
       "    <tr>\n",
       "      <th>50%</th>\n",
       "      <td>4.700000</td>\n",
       "      <td>65237.000000</td>\n",
       "    </tr>\n",
       "    <tr>\n",
       "      <th>75%</th>\n",
       "      <td>7.700000</td>\n",
       "      <td>100544.750000</td>\n",
       "    </tr>\n",
       "    <tr>\n",
       "      <th>max</th>\n",
       "      <td>10.500000</td>\n",
       "      <td>122391.000000</td>\n",
       "    </tr>\n",
       "  </tbody>\n",
       "</table>\n",
       "</div>"
      ],
      "text/plain": [
       "       YearsExperience         Salary\n",
       "count        30.000000      30.000000\n",
       "mean          5.313333   76003.000000\n",
       "std           2.837888   27414.429785\n",
       "min           1.100000   37731.000000\n",
       "25%           3.200000   56720.750000\n",
       "50%           4.700000   65237.000000\n",
       "75%           7.700000  100544.750000\n",
       "max          10.500000  122391.000000"
      ]
     },
     "execution_count": 173,
     "metadata": {},
     "output_type": "execute_result"
    }
   ],
   "source": [
    "#Basic description of the data\n",
    "df.describe()"
   ]
  },
  {
   "cell_type": "code",
   "execution_count": 174,
   "id": "e8f9ef9c",
   "metadata": {},
   "outputs": [
    {
     "data": {
      "text/plain": [
       "YearsExperience    0\n",
       "Salary             0\n",
       "dtype: int64"
      ]
     },
     "execution_count": 174,
     "metadata": {},
     "output_type": "execute_result"
    }
   ],
   "source": [
    "#Check for missing data\n",
    "df.isnull().sum()"
   ]
  },
  {
   "cell_type": "code",
   "execution_count": 187,
   "id": "609b64c8",
   "metadata": {},
   "outputs": [
    {
     "data": {
      "text/plain": [
       "<seaborn.axisgrid.PairGrid at 0x27b1f389300>"
      ]
     },
     "execution_count": 187,
     "metadata": {},
     "output_type": "execute_result"
    },
    {
     "data": {
      "image/png": "[encoded data removed]",
      "text/plain": [
       "<Figure size 500x500 with 6 Axes>"
      ]
     },
     "metadata": {},
     "output_type": "display_data"
    }
   ],
   "source": [
    "#Pairplot to determine the relation between given columns\n",
    "#Here we can clearly see that there is a Positive Linear correlation between Salary and Years Experience\n",
    "sns.pairplot(df)"
   ]
  },
  {
   "cell_type": "markdown",
   "id": "a1bc7679",
   "metadata": {},
   "source": [
    "# Clear positive correlation between the parameters\n",
    "# Will use Linear Regression\n",
    "# Manual Method"
   ]
  },
  {
   "cell_type": "code",
   "execution_count": 176,
   "id": "c00906f6",
   "metadata": {},
   "outputs": [],
   "source": [
    "#X is usually the independant feature and Y is dependant \n",
    "#We will assign variables accordingly\n",
    "x = df[\"YearsExperience\"]\n",
    "y = df[\"Salary\"]"
   ]
  },
  {
   "cell_type": "code",
   "execution_count": 177,
   "id": "0dc02f81",
   "metadata": {},
   "outputs": [],
   "source": [
    "#Determine and assign the appropriate mean of both columns\n",
    "mean_x = x.mean()\n",
    "mean_y = y.mean()"
   ]
  },
  {
   "cell_type": "code",
   "execution_count": 188,
   "id": "d38fc52d",
   "metadata": {},
   "outputs": [],
   "source": [
    "#finding the slope of our line y = mx + c. In data science it is y = b0 + b1.x\n",
    "#m is the slope c is the intercept\n",
    "\n",
    "x1 = x - mean_x\n",
    "y1 = y - mean_y\n",
    "\n",
    "n = len(x)"
   ]
  },
  {
   "cell_type": "code",
   "execution_count": 194,
   "id": "57af8bd9",
   "metadata": {},
   "outputs": [],
   "source": [
    "#Calculating the slope and assigning it to m\n",
    "#m = [Σ(x-x̅).(y-ȳ)]/Σ(x-x̅)^2\n",
    "m = (x1 * y1).sum()/(x1 ** 2).sum()"
   ]
  },
  {
   "cell_type": "code",
   "execution_count": 195,
   "id": "5e889eb9",
   "metadata": {},
   "outputs": [],
   "source": [
    "#Calculating the intercept and assigning it to c\n",
    "#c = ȳ - (m.x̅)\n",
    "c = mean_y - (m*mean_x)"
   ]
  },
  {
   "cell_type": "code",
   "execution_count": 196,
   "id": "3be217ca",
   "metadata": {},
   "outputs": [],
   "source": [
    "#Predicted values assigned to Y. Reffered to as 'ŷ' in data science. \n",
    "Y = c +(m*x)"
   ]
  },
  {
   "cell_type": "code",
   "execution_count": 197,
   "id": "00f73475",
   "metadata": {},
   "outputs": [
    {
     "data": {
      "text/plain": [
       "0      36187.0\n",
       "1      38077.0\n",
       "2      39967.0\n",
       "3      44692.0\n",
       "4      46582.0\n",
       "5      53197.0\n",
       "6      54142.0\n",
       "7      56032.0\n",
       "8      56032.0\n",
       "9      60757.0\n",
       "10     62647.0\n",
       "11     63592.0\n",
       "12     63592.0\n",
       "13     64537.0\n",
       "14     68317.0\n",
       "15     72097.0\n",
       "16     73987.0\n",
       "17     75877.0\n",
       "18     81547.0\n",
       "19     82492.0\n",
       "20     90052.0\n",
       "21     92887.0\n",
       "22    100447.0\n",
       "23    103282.0\n",
       "24    108007.0\n",
       "25    110842.0\n",
       "26    115567.0\n",
       "27    116512.0\n",
       "28    123127.0\n",
       "29    125017.0\n",
       "Name: YearsExperience, dtype: float64"
      ]
     },
     "execution_count": 197,
     "metadata": {},
     "output_type": "execute_result"
    }
   ],
   "source": [
    "#Rounding the values to 0 decimal places\n",
    "Y = round(Y,0)\n",
    "Y"
   ]
  },
  {
   "cell_type": "code",
   "execution_count": 207,
   "id": "d5be7cea",
   "metadata": {},
   "outputs": [
    {
     "data": {
      "text/plain": [
       "<matplotlib.legend.Legend at 0x27b1e4e08b0>"
      ]
     },
     "execution_count": 207,
     "metadata": {},
     "output_type": "execute_result"
    },
    {
     "data": {
      "image/png": "[encoded data removed]",
      "text/plain": [
       "<Figure size 640x480 with 1 Axes>"
      ]
     },
     "metadata": {},
     "output_type": "display_data"
    }
   ],
   "source": [
    "#This following code is to ignore a warning sign, you can try to run this code wihtout it, it will not affect your work\n",
    "warnings.filterwarnings(\"ignore\") \n",
    "\n",
    "#Define the scatterplot\n",
    "ax = sns.scatterplot(data=df, x=x, y=y, alpha=0.5).set(title = 'Salary as a function of Years of Experience')\n",
    "#PLot line with the predicted values 'Y'\n",
    "sns.lineplot(x,Y) \n",
    "plt.gca().legend(('Actual','Predicted'))"
   ]
  },
  {
   "cell_type": "code",
   "execution_count": 211,
   "id": "baeee75b",
   "metadata": {},
   "outputs": [],
   "source": [
    "#Residuals are the difference between the actual values and observed values.\n",
    "#Assign Residuals to 'e'\n",
    "e = y - Y\n",
    "\n",
    "#Square the residuals and sum them up to attain the Residual Sum of Squares \n",
    "RSS = (e ** 2).sum()"
   ]
  },
  {
   "cell_type": "code",
   "execution_count": 212,
   "id": "c7ea08d5",
   "metadata": {},
   "outputs": [
    {
     "data": {
      "text/plain": [
       "0.9569566641282954"
      ]
     },
     "execution_count": 212,
     "metadata": {},
     "output_type": "execute_result"
    }
   ],
   "source": [
    "#R2(R squared) is a performance metric to see how our model is, higher R2 the better the accuracy\n",
    "# 1 - RSS/TSS\n",
    "R2 = 1 - RSS/((y1)**2).sum()\n",
    "R2"
   ]
  },
  {
   "cell_type": "markdown",
   "id": "c44f5d26",
   "metadata": {},
   "source": [
    "# The accuracy of our model is 95.69% "
   ]
  },
  {
   "cell_type": "code",
   "execution_count": null,
   "id": "78e47c34",
   "metadata": {},
   "outputs": [],
   "source": [
    "Cf = RSS/2*n\n",
    "RMS = math.sqrt(Cf)\n",
    "RMS"
   ]
  },
  {
   "cell_type": "code",
   "execution_count": 179,
   "id": "0e1c675e",
   "metadata": {},
   "outputs": [],
   "source": [
    "#calculating b1 and b0\n",
    "\n",
    "numr = 0\n",
    "deno = 0\n",
    "for i in range(n):\n",
    "    numr += (x[i] - x1)*(y[i] - y1)\n",
    "    deno += (x[i] - x1) ** 2\n",
    "    b1 = numr/deno\n",
    "    b0 = y1 - b1*x1\n",
    "    "
   ]
  },
  {
   "cell_type": "code",
   "execution_count": 126,
   "id": "11ae4529",
   "metadata": {},
   "outputs": [
    {
     "name": "stdout",
     "output_type": "stream",
     "text": [
      "<bound method NDFrame._add_numeric_operations.<locals>.sum of 0       9960336.0\n",
      "1      66064384.0\n",
      "2       4999696.0\n",
      "3       1361889.0\n",
      "4      44769481.0\n",
      "5      11868025.0\n",
      "6      36096064.0\n",
      "7       2518569.0\n",
      "8      70778569.0\n",
      "9      12730624.0\n",
      "10       326041.0\n",
      "11     60808804.0\n",
      "12     44023225.0\n",
      "13     55591936.0\n",
      "14     51926436.0\n",
      "15     17297281.0\n",
      "16     63329764.0\n",
      "17     51998521.0\n",
      "18        33856.0\n",
      "19    131056704.0\n",
      "20      2842596.0\n",
      "21     29008996.0\n",
      "22       731025.0\n",
      "23    110880900.0\n",
      "24      2027776.0\n",
      "25     27667600.0\n",
      "26      1965604.0\n",
      "27     15031129.0\n",
      "28       541696.0\n",
      "29      9891025.0\n",
      "dtype: float64>\n"
     ]
    }
   ],
   "source": [
    "RSS = ((y-Y)**2).sum\n",
    "print(RSS)\n",
    "import math\n",
    "#RSE = math.sqrt(R2/n-2)\n",
    "#RSE"
   ]
  },
  {
   "cell_type": "code",
   "execution_count": null,
   "id": "f931f85b",
   "metadata": {},
   "outputs": [],
   "source": []
  }
 ],
 "metadata": {
  "kernelspec": {
   "display_name": "Python 3 (ipykernel)",
   "language": "python",
   "name": "python3"
  },
  "language_info": {
   "codemirror_mode": {
    "name": "ipython",
    "version": 3
   },
   "file_extension": ".py",
   "mimetype": "text/x-python",
   "name": "python",
   "nbconvert_exporter": "python",
   "pygments_lexer": "ipython3",
   "version": "3.10.6"
  }
 },
 "nbformat": 4,
 "nbformat_minor": 5
}
